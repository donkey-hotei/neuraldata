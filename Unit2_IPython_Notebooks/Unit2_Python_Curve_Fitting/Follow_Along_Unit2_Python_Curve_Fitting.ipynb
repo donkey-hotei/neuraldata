{
 "metadata": {
  "css": [
   ""
  ],
  "name": "",
  "signature": "sha256:e2fe58a969415f6264f535cd7f8f3dc08e919c000e7a1fcb965b0c3aeb9e93a2"
 },
 "nbformat": 3,
 "nbformat_minor": 0,
 "worksheets": [
  {
   "cells": [
    {
     "cell_type": "markdown",
     "metadata": {},
     "source": [
      "#Curve Fitting\n",
      "\n",
      "In this unit, we will demonstrate some very basic methods for **curve fitting**.\n",
      "\n",
      "By the end of this video, you should be able to:\n",
      "\n",
      "* generate original and noisy data\n",
      "\n",
      "* plot a line or curve on top of raw data\n",
      "\n",
      "* define a function to use to to fit raw data\n",
      "\n",
      "* obtain the fit parameters and use these to plot fit"
     ]
    },
    {
     "cell_type": "markdown",
     "metadata": {},
     "source": [
      "As usual, we'll set things up first.  \n",
      "\n",
      "    * The %matplotlib magic will allow graphs to be inline in this document.\n",
      "\n",
      "    * We import all the NumPy routines as well as plotting routines from matplotlib.\n",
      "    \n",
      "    * And for this module, we will use some functions from the scipy module."
     ]
    },
    {
     "cell_type": "code",
     "collapsed": false,
     "input": [
      "#Helper code we need to get started\n",
      "%matplotlib inline\n",
      "import numpy as np\n",
      "import matplotlib.pyplot as plt\n",
      "import matplotlib.mlab as mlab\n",
      "from scipy import optimize, polyfit"
     ],
     "language": "python",
     "metadata": {},
     "outputs": []
    },
    {
     "cell_type": "markdown",
     "metadata": {},
     "source": [
      "On to the focus of this video - fitting data.  What we want to do is to first create data using a known function.  Then we will add noise to this data.  Finally, we will see if we can recover the original function that generated the data.\n",
      "\n",
      "In real data analyses, we often don't know the actual function that generated the data but we have an idea about what that function might look like.  We use the same approach as we'll do here, but in that case we start with actual data."
     ]
    },
    {
     "cell_type": "markdown",
     "metadata": {},
     "source": [
      "The first thing will do is create a very simple set of data.  We'll take the function $y = mx+b$ that we all know as a linear function (straight line) and then add some jitter to it."
     ]
    },
    {
     "cell_type": "code",
     "collapsed": false,
     "input": [
      "n = 50\n",
      "jitter_amp = 4.0\n",
      "x = np.linspace(0,10,n)\n",
      "jitter = jitter_amp * (np.random.random(n)-.5)\n",
      "y = x+jitter\n",
      "plt.plot(x,y,'o')"
     ],
     "language": "python",
     "metadata": {},
     "outputs": []
    },
    {
     "cell_type": "markdown",
     "metadata": {},
     "source": [
      "Now we can try our first fit using the function **polyfit** from the numpy module.  This fits a polynomial to $x,y$ data.  The first order polynomial is a simple linear fit.  The first two arguments to **polyfit** are the x and y values, and the third argument is the order (here 1)."
     ]
    },
    {
     "cell_type": "code",
     "collapsed": false,
     "input": [
      "m,b = polyfit(x,y,1)"
     ],
     "language": "python",
     "metadata": {},
     "outputs": []
    },
    {
     "cell_type": "markdown",
     "metadata": {},
     "source": [
      "Remember that the $m$ parameter corresponding to the slope ($\\Delta y / \\Delta x$).  The $b$ parameter is the intercept or offset.  For these data, our data came from the function $y=x$, so the slope should be 1 and the intercept 0."
     ]
    },
    {
     "cell_type": "markdown",
     "metadata": {},
     "source": [
      "Now let's add the fit line to our data.  For this we use the **plt.plot** command with the *hold=True* option."
     ]
    },
    {
     "cell_type": "code",
     "collapsed": false,
     "input": [],
     "language": "python",
     "metadata": {},
     "outputs": []
    },
    {
     "cell_type": "markdown",
     "metadata": {},
     "source": [
      "*** What about more general curve fitting? ***\n",
      "\n",
      "For this we define our own fit function and use the **optimize.curve_fit** function."
     ]
    },
    {
     "cell_type": "code",
     "collapsed": false,
     "input": [],
     "language": "python",
     "metadata": {},
     "outputs": []
    },
    {
     "cell_type": "code",
     "collapsed": false,
     "input": [],
     "language": "python",
     "metadata": {},
     "outputs": []
    },
    {
     "cell_type": "markdown",
     "metadata": {},
     "source": [
      "We will again plot the data, this time with a legend and labels."
     ]
    },
    {
     "cell_type": "code",
     "collapsed": false,
     "input": [
      "plt.plot(x,y,'o', hold=True)\n",
      "t = np.array([0,10])\n",
      "plt.plot(t,p[0]*t+p[1])\n",
      "plt.xlabel('x')\n",
      "plt.ylabel('y')\n",
      "plt.title('Linear Fit of Noisy Data')\n",
      "plt.legend(['noisy data','linear fit'], loc=0)"
     ],
     "language": "python",
     "metadata": {},
     "outputs": []
    },
    {
     "cell_type": "code",
     "collapsed": false,
     "input": [
      "help(optimize.curve_fit)"
     ],
     "language": "python",
     "metadata": {},
     "outputs": []
    },
    {
     "cell_type": "markdown",
     "metadata": {},
     "source": [
      "OK, now let's actually fit a function that's not linear.  We'll choose an extremely common function - the normal (or Gaussian) distribution.\n",
      "\n",
      "First, let's see how we can use the **matplotlib.mlab** function called **normpdf**."
     ]
    },
    {
     "cell_type": "code",
     "collapsed": false,
     "input": [
      "mean = \n",
      "var = \n",
      "sigma = np.sqrt(var)\n",
      "x = np.linspace(-4,4,80)\n",
      "plt.plot(x,mlab.normpdf(x,mean,sigma))"
     ],
     "language": "python",
     "metadata": {},
     "outputs": []
    },
    {
     "cell_type": "code",
     "collapsed": false,
     "input": [
      "n = 20\n",
      "x = np.linspace(-4,4,n)\n",
      "jitter_amp = .1\n",
      "jitter = jitter_amp * (np.random.random(n)-.5)\n",
      "y = mlab.normpdf(x,mean,sigma)+jitter\n",
      "plt.plot(x,y,'o')"
     ],
     "language": "python",
     "metadata": {},
     "outputs": []
    },
    {
     "cell_type": "code",
     "collapsed": false,
     "input": [
      "def normal_fit(t, mean, var):\n",
      "    return mlab.normpdf(t,mean,var)\n",
      "\n",
      "p, cov = optimize.curve_fit(normal_fit, x, y)\n",
      "p"
     ],
     "language": "python",
     "metadata": {},
     "outputs": []
    },
    {
     "cell_type": "code",
     "collapsed": false,
     "input": [
      "plt.plot(x,y,'o',hold=True)\n",
      "plt.plot(x,normal_fit(x,p[0],p[1]),'-')\n",
      "plt.legend(['original', 'fit'])\n",
      "plt.text(-2.2,.34, 'mean = %.2f\\nvar = %.2f' % (p[0],p[1]), ha='right')"
     ],
     "language": "python",
     "metadata": {},
     "outputs": []
    }
   ],
   "metadata": {}
  }
 ]
}