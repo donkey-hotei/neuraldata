{
 "metadata": {
  "css": [
   ""
  ],
  "name": "",
  "signature": "sha256:746f298ebba332ebe9de4e78080865035c22c84bd6e6a5447b10500d1231e942"
 },
 "nbformat": 3,
 "nbformat_minor": 0,
 "worksheets": [
  {
   "cells": [
    {
     "cell_type": "markdown",
     "metadata": {},
     "source": [
      "#Introduction to Python - Part 8\n",
      "\n",
      "In this video, we will introduce some basic graphics capabilities of python using **matplotlib** \n",
      "\n",
      "By the end of this video, you should be able to:\n",
      "\n",
      "* create a graph in `ipython notebook`\n",
      "\n",
      "* open the Spyder environment\n",
      "\n",
      "* create a figure in Spyder and add a graph"
     ]
    },
    {
     "cell_type": "markdown",
     "metadata": {},
     "source": [
      "We'll start this section of the video here in `ipython notebook`. To show a graph in this environment, we can do the following:"
     ]
    },
    {
     "cell_type": "code",
     "collapsed": false,
     "input": [
      "import numpy as np\n",
      "import matplotlib\n",
      "import matplotlib.pyplot as plt\n",
      "\n",
      "%matplotlib inline\n",
      "\n",
      "x = np.linspace(0, 3*np.pi, 500)\n",
      "plt.plot(x, np.sin(x))\n",
      "plt.title('A Sinewave')\n",
      "plt.show()"
     ],
     "language": "python",
     "metadata": {},
     "outputs": []
    },
    {
     "cell_type": "markdown",
     "metadata": {},
     "source": [
      "There are a few new things here.\n",
      "\n",
      "The three `import` lines tell python we want to use functions defined in other *modules*. Here we import functions from *numpy* and *matplotlib*.  *Numpy* introduces a object type optimized for numerical processing - the *numpy array*.  The *matplotlib* provides a large set of graphics routines we will use to create plots.\n",
      "\n",
      "The `%matplotlib inline` line is a special command (called a *magic* in iPython lingo) interpreted by `iPython`.  It says to put the graphs in our document instead of popping up a new window.\n",
      "\n",
      "The `x = np.linspace(0, 3*np.pi, 500)` line creates a numpy array, much like `range()` creates lists of numbers.  Here, though, we create an array of 500 real numbers between 0 and 3*pi.\n",
      "\n",
      "Finally, the three `plt` lines create a an xyplot, add a title, and show the plot."
     ]
    },
    {
     "cell_type": "heading",
     "level": 3,
     "metadata": {},
     "source": [
      "For further info"
     ]
    },
    {
     "cell_type": "markdown",
     "metadata": {},
     "source": [
      "**Matplotlib** has extensive documentation at http://matplotlib.org\n",
      "\n",
      "iPython **magic** commands can also be very helpful:\n",
      "http://nbviewer.ipython.org/github/ipython/ipython/blob/1.x/examples/notebooks/Cell%20Magics.ipynb\n"
     ]
    },
    {
     "cell_type": "code",
     "collapsed": false,
     "input": [],
     "language": "python",
     "metadata": {},
     "outputs": []
    },
    {
     "cell_type": "code",
     "collapsed": false,
     "input": [],
     "language": "python",
     "metadata": {},
     "outputs": []
    },
    {
     "cell_type": "heading",
     "level": 3,
     "metadata": {},
     "source": [
      "Useful links"
     ]
    },
    {
     "cell_type": "markdown",
     "metadata": {},
     "source": [
      "Before leaving this notebook, I want to point out some very useful tutorials in iPython notebook you can link to for more information:\n",
      "\n",
      "**Useful iPython Notebook Links**\n",
      "\n",
      "http://nbviewer.ipython.org/github/jrjohansson/scientific-python-lectures/tree/master/\n",
      "\n",
      "https://github.com/jrjohansson/scientific-python-lectures"
     ]
    },
    {
     "cell_type": "heading",
     "level": 3,
     "metadata": {},
     "source": [
      "Starting up spyder"
     ]
    },
    {
     "cell_type": "markdown",
     "metadata": {},
     "source": [
      "At this point, we are going to switch over to a different environment more oriented to writing your own programs.  iPython notebook is great for creating interactive tutorials, but it's not specifically designed to be a development environment for programs."
     ]
    },
    {
     "cell_type": "code",
     "collapsed": false,
     "input": [
      "!spyder"
     ],
     "language": "python",
     "metadata": {},
     "outputs": [
      {
       "output_type": "stream",
       "stream": "stdout",
       "text": [
        "WARNING: Unexpected error discovering local network interfaces: 'SysOutput' object has no attribute 'flush'\r\n"
       ]
      }
     ],
     "prompt_number": 9
    },
    {
     "cell_type": "code",
     "collapsed": false,
     "input": [],
     "language": "python",
     "metadata": {},
     "outputs": []
    }
   ],
   "metadata": {}
  }
 ]
}