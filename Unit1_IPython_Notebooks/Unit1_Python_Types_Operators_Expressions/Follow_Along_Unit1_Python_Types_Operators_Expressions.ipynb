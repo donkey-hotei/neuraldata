{
 "metadata": {
  "name": "",
  "signature": "sha256:d4138d2e7540649ee9af601d5471b7347efb75af59239a912a65ac2c82764cee"
 },
 "nbformat": 3,
 "nbformat_minor": 0,
 "worksheets": [
  {
   "cells": [
    {
     "cell_type": "markdown",
     "metadata": {},
     "source": [
      "#Introduction to Python - Part 2\n",
      "\n",
      "Today we will contiune our introduction to Python by looking at types, operators and expressions.  \n",
      "\n",
      "By the end of this video, you should be able to:\n",
      "\n",
      "* classify objects into different types\n",
      "\n",
      "* calculate the expected result of short expressions\n",
      "\n",
      "* write your own expressions using a variety of tyes and operators"
     ]
    },
    {
     "cell_type": "code",
     "collapsed": false,
     "input": [
      "type(4)"
     ],
     "language": "python",
     "metadata": {},
     "outputs": []
    },
    {
     "cell_type": "markdown",
     "metadata": {},
     "source": [
      "Python manipulates **objects**.  Objects come in different **types**\n",
      "\n",
      "Here are some types we are interested in:\n",
      "\n",
      "* `int` \n",
      "\n",
      "* `float` \n",
      "\n",
      "* `bool` \n",
      "\n",
      "* `str` \n",
      "\n",
      "* `None` "
     ]
    },
    {
     "cell_type": "code",
     "collapsed": false,
     "input": [
      "type(3.14159)"
     ],
     "language": "python",
     "metadata": {},
     "outputs": []
    },
    {
     "cell_type": "code",
     "collapsed": false,
     "input": [
      "type('3.14159')"
     ],
     "language": "python",
     "metadata": {},
     "outputs": []
    },
    {
     "cell_type": "markdown",
     "metadata": {},
     "source": [
      "We also have **operators** like `+, -, *, /`\n",
      "\n",
      "We can combine objects and operators to make **expressions** and the expressions refer to an object with a type.\n",
      "\n",
      "`6 + 7` is an \n",
      "\n",
      "for object \n",
      "\n",
      "and type "
     ]
    },
    {
     "cell_type": "markdown",
     "metadata": {},
     "source": [
      "##Operators on types `int` and `float`\n",
      "\n",
      "`i+j` \n",
      "\n",
      "`i-j` \n",
      "\n",
      "`i*j` \n",
      "\n",
      "`i/j`  \n",
      "\n",
      "`i//j` \n",
      "\n",
      "`i%j`  \n",
      "\n",
      "`i**j` \n",
      "\n",
      "`i==j` \n",
      "\n",
      "`i!=j` \n",
      "\n",
      "`i>j` Similarly, `>=, <, <=`\n",
      "\n",
      "*For each of the above, can i and j be `int`, `float` or either? What will the output types be? Do they depend on the input types?  What does each one do?*\n",
      "You can write code below to try things out!"
     ]
    },
    {
     "cell_type": "code",
     "collapsed": false,
     "input": [],
     "language": "python",
     "metadata": {},
     "outputs": []
    },
    {
     "cell_type": "markdown",
     "metadata": {},
     "source": [
      "## Order of Operations\n",
      "\n",
      "**PEMDAS\n",
      "\n",
      "Parentheses, Exponentials, Multiplication/Division, Addition/Subtraction\n",
      "Same precedence is evaluated left to right"
     ]
    },
    {
     "cell_type": "code",
     "collapsed": false,
     "input": [
      "4**1 + 1"
     ],
     "language": "python",
     "metadata": {},
     "outputs": []
    },
    {
     "cell_type": "code",
     "collapsed": false,
     "input": [
      "6*1**2"
     ],
     "language": "python",
     "metadata": {},
     "outputs": []
    },
    {
     "cell_type": "code",
     "collapsed": false,
     "input": [
      "(-1)**3*3"
     ],
     "language": "python",
     "metadata": {},
     "outputs": []
    },
    {
     "cell_type": "code",
     "collapsed": false,
     "input": [
      "6*3/2"
     ],
     "language": "python",
     "metadata": {},
     "outputs": []
    },
    {
     "cell_type": "code",
     "collapsed": false,
     "input": [
      "3/2*6"
     ],
     "language": "python",
     "metadata": {},
     "outputs": []
    },
    {
     "cell_type": "markdown",
     "metadata": {},
     "source": [
      "You can also use operators with strings!"
     ]
    },
    {
     "cell_type": "code",
     "collapsed": false,
     "input": [
      "3*'a'"
     ],
     "language": "python",
     "metadata": {},
     "outputs": []
    },
    {
     "cell_type": "code",
     "collapsed": false,
     "input": [
      "'a'+'a'"
     ],
     "language": "python",
     "metadata": {},
     "outputs": []
    },
    {
     "cell_type": "code",
     "collapsed": false,
     "input": [
      "'a'*'a'"
     ],
     "language": "python",
     "metadata": {},
     "outputs": []
    },
    {
     "cell_type": "markdown",
     "metadata": {},
     "source": [
      "*How are these the same or different from regular `+` and *`*`*?*\n",
      "\n",
      "Be careful with strings!"
     ]
    },
    {
     "cell_type": "code",
     "collapsed": false,
     "input": [
      "'4' < 3"
     ],
     "language": "python",
     "metadata": {},
     "outputs": []
    },
    {
     "cell_type": "code",
     "collapsed": false,
     "input": [
      "'2' < 3"
     ],
     "language": "python",
     "metadata": {},
     "outputs": []
    },
    {
     "cell_type": "markdown",
     "metadata": {},
     "source": [
      "Some additional fun with strings!"
     ]
    },
    {
     "cell_type": "code",
     "collapsed": false,
     "input": [
      "len('Neuroscience')"
     ],
     "language": "python",
     "metadata": {},
     "outputs": []
    },
    {
     "cell_type": "code",
     "collapsed": false,
     "input": [
      "'Neuroscience'[5]"
     ],
     "language": "python",
     "metadata": {},
     "outputs": []
    },
    {
     "cell_type": "code",
     "collapsed": false,
     "input": [
      "'Neuroscience'[12]"
     ],
     "language": "python",
     "metadata": {},
     "outputs": []
    },
    {
     "cell_type": "code",
     "collapsed": false,
     "input": [
      "'Neuroscience'[0:5]"
     ],
     "language": "python",
     "metadata": {},
     "outputs": []
    },
    {
     "cell_type": "code",
     "collapsed": false,
     "input": [
      "'Neuroscience'[5:len('Neuroscience')]"
     ],
     "language": "python",
     "metadata": {},
     "outputs": []
    }
   ],
   "metadata": {}
  }
 ]
}