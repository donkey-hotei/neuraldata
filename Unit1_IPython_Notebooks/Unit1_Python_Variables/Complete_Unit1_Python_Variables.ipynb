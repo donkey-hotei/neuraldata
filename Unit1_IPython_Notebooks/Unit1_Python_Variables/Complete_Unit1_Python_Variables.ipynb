{
 "metadata": {
  "css": [
   ""
  ],
  "name": "",
  "signature": "sha256:bf0ef5ad422da7ee2190e2dbedbd6a62ff710e24a2f90a411e9458a01b589c3a"
 },
 "nbformat": 3,
 "nbformat_minor": 0,
 "worksheets": [
  {
   "cells": [
    {
     "cell_type": "markdown",
     "metadata": {},
     "source": [
      "#Introduction to Python - Part 3\n",
      "\n",
      "Today we will contiune our introduction to Python by looking at variables. \n",
      "\n",
      "By the end of this video, you should be able to:\n",
      "\n",
      "* create new variables\n",
      "\n",
      "* determine a variable's type\n",
      "\n",
      "* write expressions using variables"
     ]
    },
    {
     "cell_type": "markdown",
     "metadata": {},
     "source": [
      "##What is a Variable?\n",
      "\n",
      "A name that refers to a value - a way to associate a name to an object."
     ]
    },
    {
     "cell_type": "code",
     "collapsed": false,
     "input": [
      "title = \"How to find a circle's area\"\n",
      "pi = 3.14159\n",
      "radius = 5\n",
      "area = pi * (radius**2)"
     ],
     "language": "python",
     "metadata": {},
     "outputs": [],
     "prompt_number": 2
    },
    {
     "cell_type": "code",
     "collapsed": false,
     "input": [
      "print area"
     ],
     "language": "python",
     "metadata": {},
     "outputs": [
      {
       "output_type": "stream",
       "stream": "stdout",
       "text": [
        "78.53975\n"
       ]
      }
     ],
     "prompt_number": 3
    },
    {
     "cell_type": "markdown",
     "metadata": {},
     "source": [
      "**Variables** have types which are the types of the value they refer to.  You can check the type as before.\n",
      "\n",
      "Rules for variable names:\n",
      "    \n",
      "* Can be arbitrarily long\n",
      "\n",
      "* Can contain both letters and numbers\n",
      "\n",
      "* Must begin with letters\n",
      "\n",
      "* Case matters\n",
      "\n",
      "* Underscore can appear to allow_for_multiple_words\n",
      "\n",
      "* Can't be a Python reserved keyword. (You'll get an error)  \n",
      "\n",
      "**Remember that variables are just names!**"
     ]
    },
    {
     "cell_type": "code",
     "collapsed": false,
     "input": [
      "type(area)"
     ],
     "language": "python",
     "metadata": {},
     "outputs": [
      {
       "metadata": {},
       "output_type": "pyout",
       "prompt_number": 4,
       "text": [
        "float"
       ]
      }
     ],
     "prompt_number": 4
    },
    {
     "cell_type": "code",
     "collapsed": false,
     "input": [
      "a = 3.14159\n",
      "b = 5\n",
      "c = a * (b**2)"
     ],
     "language": "python",
     "metadata": {},
     "outputs": [],
     "prompt_number": 5
    },
    {
     "cell_type": "code",
     "collapsed": false,
     "input": [
      "x = 2\n",
      "print x "
     ],
     "language": "python",
     "metadata": {},
     "outputs": [
      {
       "output_type": "stream",
       "stream": "stdout",
       "text": [
        "2\n"
       ]
      }
     ],
     "prompt_number": 6
    },
    {
     "cell_type": "code",
     "collapsed": false,
     "input": [
      "print 'x = ', x"
     ],
     "language": "python",
     "metadata": {},
     "outputs": [
      {
       "output_type": "stream",
       "stream": "stdout",
       "text": [
        "x =  2\n"
       ]
      }
     ],
     "prompt_number": 7
    },
    {
     "cell_type": "code",
     "collapsed": false,
     "input": [
      "x, y = 2, 3\n",
      "print 'x = ', x\n",
      "print 'y = ', y"
     ],
     "language": "python",
     "metadata": {},
     "outputs": [
      {
       "output_type": "stream",
       "stream": "stdout",
       "text": [
        "x =  2\n",
        "y =  3\n"
       ]
      }
     ],
     "prompt_number": 8
    },
    {
     "cell_type": "markdown",
     "metadata": {},
     "source": [
      "What if you want to swap the values of x and y?"
     ]
    },
    {
     "cell_type": "code",
     "collapsed": false,
     "input": [
      "x, y = 2, 3\n",
      "#Add code to swap the values here\n",
      "#Ooh look a COMMENT\n",
      "x, y = y, x\n",
      "print 'x = ', x\n",
      "print 'y = ', y"
     ],
     "language": "python",
     "metadata": {},
     "outputs": [
      {
       "output_type": "stream",
       "stream": "stdout",
       "text": [
        "x =  3\n",
        "y =  2\n"
       ]
      }
     ],
     "prompt_number": 9
    },
    {
     "cell_type": "code",
     "collapsed": false,
     "input": [
      "x = 2\n",
      "y = 3\n",
      "#Add code to swap the values here (without using the double assignment)\n",
      "z = x\n",
      "x = y\n",
      "y = z\n",
      "print 'x = ', x\n",
      "print 'y = ', y"
     ],
     "language": "python",
     "metadata": {},
     "outputs": [
      {
       "output_type": "stream",
       "stream": "stdout",
       "text": [
        "x =  3\n",
        "y =  2\n"
       ]
      }
     ],
     "prompt_number": 10
    },
    {
     "cell_type": "code",
     "collapsed": false,
     "input": [
      "title = 'Dr. '\n",
      "LastName = 'Sheinberg'\n",
      "professor = title + LastName\n",
      "print professor"
     ],
     "language": "python",
     "metadata": {},
     "outputs": [
      {
       "output_type": "stream",
       "stream": "stdout",
       "text": [
        "Dr. Sheinberg\n"
       ]
      }
     ],
     "prompt_number": 11
    },
    {
     "cell_type": "code",
     "collapsed": false,
     "input": [],
     "language": "python",
     "metadata": {},
     "outputs": []
    }
   ],
   "metadata": {}
  }
 ]
}