{
 "metadata": {
  "css": [
   ""
  ],
  "name": "",
  "signature": "sha256:507a41ad9a28c439d49fd4ca63762d83fd7408b94eab0c299259c5e40f9a68c2"
 },
 "nbformat": 3,
 "nbformat_minor": 0,
 "worksheets": [
  {
   "cells": [
    {
     "cell_type": "markdown",
     "metadata": {},
     "source": [
      "#Introduction to Python - Part 3\n",
      "\n",
      "Today we will contiune our introduction to Python by looking at variables. \n",
      "\n",
      "By the end of this video, you should be able to:\n",
      "\n",
      "* create new variables\n",
      "\n",
      "* determine a variable's type\n",
      "\n",
      "* write expressions using variables"
     ]
    },
    {
     "cell_type": "markdown",
     "metadata": {},
     "source": [
      "##What is a Variable?\n",
      "\n",
      "A name that refers to a value - a way to associate a name to an object."
     ]
    },
    {
     "cell_type": "code",
     "collapsed": false,
     "input": [
      "title = \"How to find a circle's area\"\n",
      "pi = 3.14159\n",
      "radius = 5\n",
      "area = pi * (radius**2)"
     ],
     "language": "python",
     "metadata": {},
     "outputs": []
    },
    {
     "cell_type": "code",
     "collapsed": false,
     "input": [
      "print area"
     ],
     "language": "python",
     "metadata": {},
     "outputs": []
    },
    {
     "cell_type": "markdown",
     "metadata": {},
     "source": [
      "**Variables** have types which are the types of the value they refer to.  You can check the type as before.\n",
      "\n",
      "Rules for variable names:\n",
      "    \n",
      "* Can be arbitrarily long\n",
      "\n",
      "* Can contain both letters and numbers\n",
      "\n",
      "* Must begin with letters\n",
      "\n",
      "* Case matters\n",
      "\n",
      "* Underscore can appear to allow_for_multiple_words\n",
      "\n",
      "* Can't be a Python reserved keyword. (You'll get an error)  \n",
      "\n",
      "**Remember that variables are just names!**"
     ]
    },
    {
     "cell_type": "code",
     "collapsed": false,
     "input": [
      "type(area)"
     ],
     "language": "python",
     "metadata": {},
     "outputs": []
    },
    {
     "cell_type": "code",
     "collapsed": false,
     "input": [
      "a = 3.14159\n",
      "b = 5\n",
      "c = a * (b**2)"
     ],
     "language": "python",
     "metadata": {},
     "outputs": []
    },
    {
     "cell_type": "code",
     "collapsed": false,
     "input": [
      "x = 2\n",
      "print x "
     ],
     "language": "python",
     "metadata": {},
     "outputs": []
    },
    {
     "cell_type": "code",
     "collapsed": false,
     "input": [
      "print 'x = ', x"
     ],
     "language": "python",
     "metadata": {},
     "outputs": []
    },
    {
     "cell_type": "code",
     "collapsed": false,
     "input": [
      "x, y = 2, 3\n",
      "print 'x = ', x\n",
      "print 'y = ', y"
     ],
     "language": "python",
     "metadata": {},
     "outputs": []
    },
    {
     "cell_type": "markdown",
     "metadata": {},
     "source": [
      "What if you want to swap the values of x and y?"
     ]
    },
    {
     "cell_type": "code",
     "collapsed": false,
     "input": [
      "x, y = 2, 3\n",
      "#Add code to swap the values here\n",
      "#Ooh look a COMMENT\n",
      "print 'x = ', x\n",
      "print 'y = ', y"
     ],
     "language": "python",
     "metadata": {},
     "outputs": []
    },
    {
     "cell_type": "code",
     "collapsed": false,
     "input": [
      "x = 2\n",
      "y = 3\n",
      "#Add code to swap the values here (without using the double assignment)\n",
      "print 'x = ', x\n",
      "print 'y = ', y"
     ],
     "language": "python",
     "metadata": {},
     "outputs": []
    },
    {
     "cell_type": "code",
     "collapsed": false,
     "input": [
      "title = 'Dr. '\n",
      "LastName = 'Sheinberg'\n",
      "professor = title + LastName\n",
      "print professor"
     ],
     "language": "python",
     "metadata": {},
     "outputs": []
    }
   ],
   "metadata": {}
  }
 ]
}