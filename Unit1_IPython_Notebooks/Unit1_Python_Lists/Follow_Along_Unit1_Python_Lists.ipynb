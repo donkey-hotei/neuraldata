{
 "metadata": {
  "css": [
   ""
  ],
  "name": "",
  "signature": "sha256:528cece35339b7090b4447b607655816ff18e29f4bdb001d9646d2df756fabd6"
 },
 "nbformat": 3,
 "nbformat_minor": 0,
 "worksheets": [
  {
   "cells": [
    {
     "cell_type": "markdown",
     "metadata": {},
     "source": [
      "#Introduction to Python - Part 6\n",
      "\n",
      "Today we will contiune our introduction to Python by looking at **lists** \n",
      "\n",
      "By the end of this video, you should be able to:\n",
      "\n",
      "* create lists\n",
      "\n",
      "* extract elements from lists\n",
      "\n",
      "* operate on lists and use them in loops"
     ]
    },
    {
     "cell_type": "markdown",
     "metadata": {},
     "source": [
      "**Lists** allow collections of data to be kept together\n",
      "\n",
      "Unlike `scalar` variables, which are assigned a single value, `lists` can hold zero or more values\n",
      "\n"
     ]
    },
    {
     "cell_type": "code",
     "collapsed": false,
     "input": [],
     "language": "python",
     "metadata": {},
     "outputs": []
    },
    {
     "cell_type": "code",
     "collapsed": false,
     "input": [],
     "language": "python",
     "metadata": {},
     "outputs": []
    },
    {
     "cell_type": "markdown",
     "metadata": {},
     "source": [
      "We created a new list, called **mylist**, which contains three numbers.  Just as with variables assigned to a single value, the actual assignment of the variable doesn't return anything.  In the second line, we type the name of the list and we see the contents."
     ]
    },
    {
     "cell_type": "markdown",
     "metadata": {},
     "source": [
      "We actually already saw a function for creating lists in a previous lesson.  The `range()` function creates an arithmentic sequence that is very useful for *loops*.  It is really just a shorthand for creating lists:\n"
     ]
    },
    {
     "cell_type": "code",
     "collapsed": false,
     "input": [],
     "language": "python",
     "metadata": {},
     "outputs": []
    },
    {
     "cell_type": "code",
     "collapsed": false,
     "input": [],
     "language": "python",
     "metadata": {},
     "outputs": []
    },
    {
     "cell_type": "markdown",
     "metadata": {},
     "source": [
      "The two lists are the same, although the `range()` function is a lot easier to use!"
     ]
    },
    {
     "cell_type": "markdown",
     "metadata": {},
     "source": [
      "What can go in a python list?  Let's see:"
     ]
    },
    {
     "cell_type": "code",
     "collapsed": false,
     "input": [],
     "language": "python",
     "metadata": {},
     "outputs": []
    },
    {
     "cell_type": "markdown",
     "metadata": {},
     "source": [
      "Interesting.  The list doesn't have to contain all the same type of values.  This is very flexible, and you can take advantage of this.  However, we will also see that for some kinds of data storage and manipulation, this comes at a cost.\n",
      "\n",
      "If you are doing extensive math on large amounts of data, it is generally more efficient if a collection of data is all of the same type.  Extensions to python introduce more constrained lists, called *arrays* that are optimized for mathematical operations."
     ]
    },
    {
     "cell_type": "markdown",
     "metadata": {},
     "source": [
      "OK, we have a list, but how do we get things out of it?\n",
      "\n",
      "We can access elements using python's `[]` notation.  We actually already saw this with strings."
     ]
    },
    {
     "cell_type": "code",
     "collapsed": false,
     "input": [],
     "language": "python",
     "metadata": {},
     "outputs": []
    },
    {
     "cell_type": "markdown",
     "metadata": {},
     "source": [
      "The variable `name` contains a string, which is made of up a sequence of characters.  Each can be accessed using the `[]` notation, where `[0]`, e.g., access the first character.\n",
      "\n",
      "Python has a number of different ways to extract elements from a list.  For example:"
     ]
    },
    {
     "cell_type": "code",
     "collapsed": false,
     "input": [],
     "language": "python",
     "metadata": {},
     "outputs": []
    },
    {
     "cell_type": "code",
     "collapsed": false,
     "input": [],
     "language": "python",
     "metadata": {},
     "outputs": []
    },
    {
     "cell_type": "markdown",
     "metadata": {},
     "source": [
      "Just like characters in string sequences, elements in lists can be accessed using `[]`:"
     ]
    },
    {
     "cell_type": "code",
     "collapsed": false,
     "input": [],
     "language": "python",
     "metadata": {},
     "outputs": []
    },
    {
     "cell_type": "markdown",
     "metadata": {},
     "source": [
      "Lists are also *mutable*, meaning that their contents can be changed.  This is a very important property, because often the values in the list are constructed by doing some computation and adding the result to the list.\n",
      "\n",
      "For example, let's say we are given a list and we want to square all of the values in the list:"
     ]
    },
    {
     "cell_type": "code",
     "collapsed": false,
     "input": [],
     "language": "python",
     "metadata": {},
     "outputs": []
    },
    {
     "cell_type": "markdown",
     "metadata": {},
     "source": [
      "We see a few important things here.\n",
      "\n",
      "- First, we create a new, *empty* list by assigning a variable to the empty `[]'s`.\n",
      "- Second, we can use a *loop* construct to *iterate* over an existing list.  The `for val in x:` does this.\n",
      "- Finally, we can add values to a list using the `list.append(value)` method, which appends a new value to the list. "
     ]
    },
    {
     "cell_type": "markdown",
     "metadata": {},
     "source": [
      "Not only can you add new values to a list, but you can also change existing ones:"
     ]
    },
    {
     "cell_type": "code",
     "collapsed": false,
     "input": [],
     "language": "python",
     "metadata": {},
     "outputs": []
    },
    {
     "cell_type": "markdown",
     "metadata": {},
     "source": [
      "Python also supports list indexing using *negative* numbers.  These are interpreted as selecting from the end of the list.  To select the last element, you can do the following:"
     ]
    },
    {
     "cell_type": "code",
     "collapsed": false,
     "input": [],
     "language": "python",
     "metadata": {},
     "outputs": []
    },
    {
     "cell_type": "markdown",
     "metadata": {},
     "source": [
      "So how could swap the first and last values of this list?"
     ]
    },
    {
     "cell_type": "code",
     "collapsed": false,
     "input": [],
     "language": "python",
     "metadata": {},
     "outputs": []
    },
    {
     "cell_type": "markdown",
     "metadata": {},
     "source": [
      "There are many methods associated with lists.  For example, you can find a list's length using `len()` and combine them using the `+` operator:"
     ]
    },
    {
     "cell_type": "code",
     "collapsed": false,
     "input": [],
     "language": "python",
     "metadata": {},
     "outputs": []
    },
    {
     "cell_type": "markdown",
     "metadata": {},
     "source": [
      "Can you guess what the multiplication operator (`*`) does with lists?"
     ]
    },
    {
     "cell_type": "code",
     "collapsed": false,
     "input": [],
     "language": "python",
     "metadata": {},
     "outputs": []
    },
    {
     "cell_type": "markdown",
     "metadata": {},
     "source": [
      "You can also do more complicated things, like sort them.  **Note, however, that some list operations change the sequence**.  This kind of operation is called an *in-place* operation:"
     ]
    },
    {
     "cell_type": "code",
     "collapsed": false,
     "input": [],
     "language": "python",
     "metadata": {},
     "outputs": []
    },
    {
     "cell_type": "markdown",
     "metadata": {},
     "source": [
      "##Exercise with lists\n",
      "\n",
      "In this exercise, you will take a single list, and turn it into two new lists, one which contains all the values less than a certain number and one which contains all those greater than or equal to that number.\n",
      "\n",
      "Given:\n",
      "\n",
      "- `startlist = [1,5,6,8,1,12,5,2,7,8,9]`\n",
      "- `cutoff = 5`\n",
      "- `smallvals=[]`\n",
      "- `largevals=[]`\n",
      "\n",
      "Write a short program to fill up `smallvals` and `largevals` such that `smallvals` has all values less that `cutoff` and `largevals` has all those greater than or equal to `cutoff`.  Each list should contain the values sorted from biggest to smallest.\n"
     ]
    },
    {
     "cell_type": "code",
     "collapsed": false,
     "input": [],
     "language": "python",
     "metadata": {},
     "outputs": []
    }
   ],
   "metadata": {}
  }
 ]
}