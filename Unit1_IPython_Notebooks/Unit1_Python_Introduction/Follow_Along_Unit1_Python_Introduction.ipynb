{
 "metadata": {
  "name": "",
  "signature": "sha256:0ee1a826e673df345aef49dc5718cec761966b860c82e20809109e0ad693c8a3"
 },
 "nbformat": 3,
 "nbformat_minor": 0,
 "worksheets": [
  {
   "cells": [
    {
     "cell_type": "markdown",
     "metadata": {},
     "source": [
      "#Introduction to Python - Part 1\n",
      "\n",
      "Today we will begin our introduction to Python by talking a little bit about what it means to write code."
     ]
    },
    {
     "cell_type": "markdown",
     "metadata": {},
     "source": [
      "#Why Python?\n",
      "\n",
      "###What is Python, anyway?\n",
      "\n",
      "Python is the language that we write the program in.\n",
      "Languages have different **syntax** and **semantics**.\n"
     ]
    },
    {
     "cell_type": "markdown",
     "metadata": {},
     "source": [
      "Python is a **high-level** language.\n",
      "\n",
      "* Shorter\n",
      "\n",
      "* Easier to read and write\n",
      "\n",
      "* Easier to get right\n",
      "\n",
      "* Portable\n",
      "\n",
      "Pretty much everyone uses high-level languages these days.\n",
      "\n"
     ]
    },
    {
     "cell_type": "markdown",
     "metadata": {},
     "source": [
      "Python is an **interpreter**.\n",
      "\n",
      "* **Interpreters** read high-level programs and execute them in a command by command manner.\n",
      "\n",
      "* **Compliers** read the whole program (source code) before the program starts running and then convert the source code into an executable that can be run repeatedly without tranlation.\n",
      "\n",
      "**Interpreters** provide instant feedback.\n",
      "Some drawbacks are that they are slower and may use more space."
     ]
    },
    {
     "cell_type": "markdown",
     "metadata": {},
     "source": [
      "###Why else?\n",
      "\n",
      "Python is freely available.  \n",
      "\n",
      "It's becoming more and more common in neuroscience and the life sciences."
     ]
    },
    {
     "cell_type": "markdown",
     "metadata": {},
     "source": [
      "## We will use the Python language to write **programs** \n",
      "\n",
      "##What is a computer program?\n",
      "\n",
      "What are the parts of a program?\n",
      "\n",
      "* \n",
      "\n",
      "* \n",
      "\n",
      "* \n",
      "\n",
      "* \n",
      "\n",
      "* \n"
     ]
    },
    {
     "cell_type": "markdown",
     "metadata": {},
     "source": [
      "##Why do we need programs?\n"
     ]
    },
    {
     "cell_type": "markdown",
     "metadata": {},
     "source": [
      "##The computer only does what you tell it to do...\n",
      "##...So when something goes wrong....\n",
      "##...you will need to debug\n",
      "\n",
      "**What is debugging?** Fixing mistakes, finding errors in the code\n",
      "\n",
      "What can go wrong?\n",
      "\n",
      "Computers are very literal.  *Think about telling someone how to drive from your house to where you work or go to school.  What might go wrong?*"
     ]
    },
    {
     "cell_type": "markdown",
     "metadata": {},
     "source": [
      "#Let's write a really short program!"
     ]
    },
    {
     "cell_type": "code",
     "collapsed": false,
     "input": [],
     "language": "python",
     "metadata": {},
     "outputs": []
    }
   ],
   "metadata": {}
  }
 ]
}