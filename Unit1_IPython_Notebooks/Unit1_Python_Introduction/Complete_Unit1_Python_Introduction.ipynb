{
 "metadata": {
  "css": [
   ""
  ],
  "name": "",
  "signature": "sha256:e800763134228285569fbd537f086c1b2b38808f3372c559357fdfaa8ae457e5"
 },
 "nbformat": 3,
 "nbformat_minor": 0,
 "worksheets": [
  {
   "cells": [
    {
     "cell_type": "markdown",
     "metadata": {},
     "source": [
      "#Introduction to Python - Part 1\n",
      "\n",
      "Today we will begin our introduction to Python by talking a little bit about what it means to write code."
     ]
    },
    {
     "cell_type": "markdown",
     "metadata": {},
     "source": [
      "#Why Python?\n",
      "\n",
      "###What is Python, anyway?\n",
      "\n",
      "Python is the language that we write the program in.\n",
      "Languages have different **syntax** and **semantics**.\n"
     ]
    },
    {
     "cell_type": "markdown",
     "metadata": {},
     "source": [
      "Python is a **high-level** language.\n",
      "\n",
      "* Shorter\n",
      "\n",
      "* Easier to read and write\n",
      "\n",
      "* Easier to get right\n",
      "\n",
      "* Portable\n",
      "\n",
      "Pretty much everyone uses high-level languages these days.\n",
      "\n"
     ]
    },
    {
     "cell_type": "markdown",
     "metadata": {},
     "source": [
      "Python is an **interpreter**.\n",
      "\n",
      "* **Interpreters** read high-level programs and execute them in a command by command manner.\n",
      "\n",
      "* **Compliers** read the whole program (source code) before the program starts running and then convert the source code into an executable that can be run repeatedly without tranlation.\n",
      "\n",
      "**Interpreters** provide instant feedback.\n",
      "Some drawbacks are that they are slower and may use more space."
     ]
    },
    {
     "cell_type": "markdown",
     "metadata": {},
     "source": [
      "###Why else?\n",
      "\n",
      "Python is freely available.  \n",
      "\n",
      "It's becoming more and more common in neuroscience and the life sciences."
     ]
    },
    {
     "cell_type": "markdown",
     "metadata": {},
     "source": [
      "## We will use the Python language to write **programs** \n",
      "\n",
      "##What is a computer program?\n",
      "\n",
      "What are the parts of a program?\n",
      "\n",
      "* Input\n",
      "\n",
      "* Output\n",
      "\n",
      "* Math\n",
      "\n",
      "* Conditional Execution\n",
      "\n",
      "* Repetition\n"
     ]
    },
    {
     "cell_type": "markdown",
     "metadata": {},
     "source": [
      "##Why do we need programs?\n",
      "\n",
      "Fancy math\n",
      "\n",
      "Doing things again and again \n",
      "\n",
      "Storing everything"
     ]
    },
    {
     "cell_type": "markdown",
     "metadata": {},
     "source": [
      "##The computer only does what you tell it to do...\n",
      "##...So when something goes wrong....\n",
      "##...you will need to debug\n",
      "\n",
      "**What is debugging?** Fixing mistakes, finding errors in the code\n",
      "\n",
      "What can go wrong?\n",
      "\n",
      "Computers are very literal.  *Think about telling someone how to drive from your house to where you work or go to school.  What might go wrong?*"
     ]
    },
    {
     "cell_type": "markdown",
     "metadata": {},
     "source": [
      "#Let's write a really short program!"
     ]
    },
    {
     "cell_type": "code",
     "collapsed": false,
     "input": [
      "print 'Hello World'"
     ],
     "language": "python",
     "metadata": {},
     "outputs": [
      {
       "output_type": "stream",
       "stream": "stdout",
       "text": [
        "Hello World\n"
       ]
      }
     ],
     "prompt_number": 1
    }
   ],
   "metadata": {}
  }
 ]
}