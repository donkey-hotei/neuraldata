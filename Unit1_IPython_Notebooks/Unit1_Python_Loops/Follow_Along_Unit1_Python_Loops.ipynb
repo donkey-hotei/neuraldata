{
 "metadata": {
  "css": [
   ""
  ],
  "name": "",
  "signature": "sha256:1b54cbc8132eeddf2d7fddf3f97dcf4c935f51414abac315b2aec2186c30b495"
 },
 "nbformat": 3,
 "nbformat_minor": 0,
 "worksheets": [
  {
   "cells": [
    {
     "cell_type": "markdown",
     "metadata": {},
     "source": [
      "#Introduction to Python - Part 5\n",
      "\n",
      "Today we will contiune our introduction to Python by looking at **loops** \n",
      "\n",
      "By the end of this video, you should be able to:\n",
      "\n",
      "* write your own loops with proper formatting\n",
      "\n",
      "* predict the expected outcome of loops\n",
      "\n",
      "* write code to complete a short exercise incorporating loops"
     ]
    },
    {
     "cell_type": "markdown",
     "metadata": {},
     "source": [
      "**Loops** allow for repetition!\n",
      "\n",
      "The first kind of loop we will look at is a `while` loop.\n",
      "\n",
      "It takes this form\n",
      "\n",
      "`while (boolean expression):\n",
      "    your code here\n",
      "    as many lines as you want\n",
      "    (you want to make sure the boolean expression changes in here)`"
     ]
    },
    {
     "cell_type": "code",
     "collapsed": false,
     "input": [
      "n = 5\n",
      "while n > 0:\n",
      "    print n\n",
      "    n = n-1\n",
      "print \"Blastoff!\""
     ],
     "language": "python",
     "metadata": {},
     "outputs": []
    },
    {
     "cell_type": "code",
     "collapsed": false,
     "input": [
      "x = 3\n",
      "ans = 0 #Initialize this variable to 0\n",
      "loopsLeft = x\n",
      "while (loopsLeft != 0):\n",
      "    ans = ans + x\n",
      "    loopsLeft = loopsLeft - 1\n",
      "print str(x) + '*' + str(x) + ' = ' + str(ans)"
     ],
     "language": "python",
     "metadata": {},
     "outputs": []
    },
    {
     "cell_type": "markdown",
     "metadata": {},
     "source": [
      "For what values of x will this program terminate. What happens if x = 0?"
     ]
    },
    {
     "cell_type": "markdown",
     "metadata": {},
     "source": [
      "The next kind of loop we will look at is a `for` loop.\n",
      "\n",
      "It takes this form\n",
      "\n",
      "`for variable in sequence:\n",
      "    your code here\n",
      "    as many lines as you want`\n",
      "    \n",
      "It is helpful to use a python function called 'range' to make your sequence\n",
      "Range can take one or two inputs. If it takes two inputs, it generates all the integers from the first input to the second input - 1.  So range(2, 5) = (2, 3, 4)\n",
      "Range can also take just one input.  In that case range(x) = range(0,x)"
     ]
    },
    {
     "cell_type": "code",
     "collapsed": false,
     "input": [
      "x = 5\n",
      "for i in range(0,x):\n",
      "    print i"
     ],
     "language": "python",
     "metadata": {},
     "outputs": []
    },
    {
     "cell_type": "code",
     "collapsed": false,
     "input": [
      "x = 5\n",
      "for i in range(x):\n",
      "    print i\n",
      "    x = 10"
     ],
     "language": "python",
     "metadata": {},
     "outputs": []
    },
    {
     "cell_type": "markdown",
     "metadata": {},
     "source": [
      "Loops can also be nested."
     ]
    },
    {
     "cell_type": "code",
     "collapsed": false,
     "input": [
      "x = 4\n",
      "y = 3\n",
      "for j in range(y):\n",
      "    for i in range(x):\n",
      "        print i"
     ],
     "language": "python",
     "metadata": {},
     "outputs": []
    },
    {
     "cell_type": "code",
     "collapsed": false,
     "input": [
      "x = 4\n",
      "for j in range(x):\n",
      "    for i in range(x):\n",
      "        print i\n",
      "        x = 2"
     ],
     "language": "python",
     "metadata": {},
     "outputs": []
    },
    {
     "cell_type": "markdown",
     "metadata": {},
     "source": [
      "##Write a game! Guess my number!\n",
      "\n",
      "Guess my number allows the user to guess the computer's number.  In our case, we'll start with  numbers from 1-10.  But you can change that later.\n",
      "*Optional - Add in a user-controlled level of difficulty!*\n",
      "\n",
      "I'll provide you with some helper code below, but you should be able to complete the game using math, conditional expressions, and loops.\n",
      "\n",
      "Hint: If you end up stuck in a loop, just go to the menubar and select Kernel, Restart."
     ]
    },
    {
     "cell_type": "code",
     "collapsed": false,
     "input": [
      "#Let's code up a little game, called guess my number!\n",
      "#The computer will randomly select a number from 1-10\n",
      "#The user will guess numbers until they get a correct response.\n",
      "\n",
      "#First we need to import some Python code that we want to use.  We will talk more about this when we learn about functions\n",
      "import random, math\n",
      "\n",
      "answer = random.random()\n",
      "#The function random.random returns a real number with 0 <= number < 1, but I want a number between 1-10. So,\n",
      "\n",
      "answer = math.ceil(answer * 10)\n",
      "#The function math.ceil gives us the number rounded up to next integer.\n",
      "\n",
      "#print answer\n",
      "#You may want to uncomment the above line while you are debugging so you know what the right answer is!\n",
      "\n",
      "\n",
      "tries = 1 #Here we initialize this variable to 1\n",
      "guess = int(raw_input('Guess a number from 1 - 10: ')) #This lets us get user input\n",
      "\n",
      "while #You Write Something Here \n",
      "    if #And Write Something Here Too Remember to use the correct syntax\n",
      "        print('Your guess is too high.')\n",
      "    else:\n",
      "        #What should you put here?\n",
      "    #Get another guess from the user\n",
      "    #Increase the number of tries.\n",
      "\n",
      "#Write the output    \n",
      "print 'You got it. The answer was ' + str(answer)\n",
      "print 'You took ' + str(tries) + ' tries.'"
     ],
     "language": "python",
     "metadata": {},
     "outputs": []
    },
    {
     "cell_type": "markdown",
     "metadata": {},
     "source": [
      "Once you get this to work, change it to work with answers from 1-100.\n",
      "You could also think about how you would write it with a `for` loop instead of a `while` loop.  A `for` loop might be useful if you only wanted to allow a certain number of guesses."
     ]
    },
    {
     "cell_type": "markdown",
     "metadata": {},
     "source": [
      "If you are new to writing programs, this can be a challenging project!  Please seek help on the discussion boards as needed!"
     ]
    },
    {
     "cell_type": "code",
     "collapsed": false,
     "input": [],
     "language": "python",
     "metadata": {},
     "outputs": []
    }
   ],
   "metadata": {}
  }
 ]
}