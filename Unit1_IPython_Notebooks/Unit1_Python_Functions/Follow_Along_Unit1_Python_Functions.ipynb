{
 "metadata": {
  "css": [
   ""
  ],
  "name": "",
  "signature": "sha256:c8d35c4c437df2591c0cdecb1d36dd6d9cd497b0f966488715142e1d463c3fa5"
 },
 "nbformat": 3,
 "nbformat_minor": 0,
 "worksheets": [
  {
   "cells": [
    {
     "cell_type": "markdown",
     "metadata": {},
     "source": [
      "#Introduction to Python - Part 7\n",
      "\n",
      "Today we will contiune our introduction to Python by looking at **functions** \n",
      "\n",
      "By the end of this video, you should be able to:\n",
      "\n",
      "* create a function\n",
      "\n",
      "* pass arguments to a function\n",
      "\n",
      "* call one function from another"
     ]
    },
    {
     "cell_type": "markdown",
     "metadata": {},
     "source": [
      "**Functions** make it easy to use the same code over and over again\n",
      "\n",
      "In Python, it's easy to make a function."
     ]
    },
    {
     "cell_type": "code",
     "collapsed": false,
     "input": [],
     "language": "python",
     "metadata": {},
     "outputs": []
    },
    {
     "cell_type": "markdown",
     "metadata": {},
     "source": [
      "The `def` keyword introduces a new function name - in this case `print_hello`.  We'll see in a minute why there are empty parentheses after the function name.\n",
      "\n",
      "Following the `:`, you see the code that will run when this function is called.  This is called the *body* of the function.  Note that it must be indented.\n",
      "\n",
      "You might wonder what happens when you just type the name of the function:"
     ]
    },
    {
     "cell_type": "code",
     "collapsed": false,
     "input": [],
     "language": "python",
     "metadata": {},
     "outputs": []
    },
    {
     "cell_type": "markdown",
     "metadata": {},
     "source": [
      "What you see here is not the result of running the function, but rather information about the object named \"print_hello\", which is, as you might expect, a function object.  To call the function, you have to add the parentheses:"
     ]
    },
    {
     "cell_type": "code",
     "collapsed": false,
     "input": [],
     "language": "python",
     "metadata": {},
     "outputs": []
    },
    {
     "cell_type": "markdown",
     "metadata": {},
     "source": [
      "This function is not so useful, as it always does the same thing.  What if we wanted the result of the function to depend on some information we pass to the function?  For example, what if we want to say hello to a particular person?"
     ]
    },
    {
     "cell_type": "code",
     "collapsed": false,
     "input": [],
     "language": "python",
     "metadata": {},
     "outputs": []
    },
    {
     "cell_type": "markdown",
     "metadata": {},
     "source": [
      "We have now added what is called a *parameter* to the function declaration.  We said that when we call the function `print_hello` that there will be information passed to the function - called an *argument* - that will be made available inside the function body.\n",
      "\n",
      "The parameter name (here `name`) will be a variable, accessible in the function.  Note that in python, you don't specify the type of the parameters, just their names.  Also note that we don't specify what the function returns.  Python will figure this out from the definition.  In this case, we didn't explicit return anything, so python will have it return the value `None`."
     ]
    },
    {
     "cell_type": "code",
     "collapsed": false,
     "input": [],
     "language": "python",
     "metadata": {},
     "outputs": []
    },
    {
     "cell_type": "code",
     "collapsed": false,
     "input": [],
     "language": "python",
     "metadata": {},
     "outputs": []
    },
    {
     "cell_type": "markdown",
     "metadata": {},
     "source": [
      "OK, let's make a function that actually returns something."
     ]
    },
    {
     "cell_type": "code",
     "collapsed": false,
     "input": [
      "def median(datalist):\n",
      "    datalist.sort()\n",
      "    if (len(datalist)%2):\n",
      "        return datalist[len(datalist)/2]\n",
      "    else:\n",
      "        return ((datalist[len(datalist)/2-1]+datalist[len(datalist)/2])/2.0)        "
     ],
     "language": "python",
     "metadata": {},
     "outputs": []
    },
    {
     "cell_type": "code",
     "collapsed": false,
     "input": [],
     "language": "python",
     "metadata": {},
     "outputs": []
    },
    {
     "cell_type": "code",
     "collapsed": false,
     "input": [],
     "language": "python",
     "metadata": {},
     "outputs": []
    },
    {
     "cell_type": "markdown",
     "metadata": {},
     "source": [
      "***What happens to variables passed to functions as arguments?***\n",
      "\n",
      "This is one of those gotcha's that you need to keep in mind when dealing with functions in python.  Recall that in our function declaration above, we took advantage of python's method for sorting a list, which is very helpful when computing the median.  Also note, though, that the sort method changes the list it is operating on, as we learned in the previous video.  So let's try to pass a named variable to our function:"
     ]
    },
    {
     "cell_type": "code",
     "collapsed": false,
     "input": [],
     "language": "python",
     "metadata": {},
     "outputs": []
    },
    {
     "cell_type": "code",
     "collapsed": false,
     "input": [],
     "language": "python",
     "metadata": {},
     "outputs": []
    },
    {
     "cell_type": "markdown",
     "metadata": {},
     "source": [
      "So it is very important to keep track of whether your functions change the variables that are passed in or not.  Sometimes this change, called a *side-effect*, is desired.  Sometimes, though, it can lead to confusing programs."
     ]
    },
    {
     "cell_type": "markdown",
     "metadata": {},
     "source": [
      "Just a couple of more comments on function arguments.  It's easy to define a function to take more than one.  Just specify multiple names in the `()` following the function name.  In addition, parameters can have default values.  For example:"
     ]
    },
    {
     "cell_type": "code",
     "collapsed": false,
     "input": [
      "def print_hello(name, allcaps = False):\n",
      "    str = \"Hello \" + name + \"!\"\n",
      "    if (allcaps):\n",
      "        print str.upper()\n",
      "    else:\n",
      "        print str"
     ],
     "language": "python",
     "metadata": {},
     "outputs": []
    },
    {
     "cell_type": "code",
     "collapsed": false,
     "input": [],
     "language": "python",
     "metadata": {},
     "outputs": []
    },
    {
     "cell_type": "code",
     "collapsed": false,
     "input": [],
     "language": "python",
     "metadata": {},
     "outputs": []
    },
    {
     "cell_type": "markdown",
     "metadata": {},
     "source": [
      "It should also be obvious that most functions call other functions.  This can be quite useful, because it allows you to break up a job into multiple parts, which can then be mixed at matched for other uses.  For example, we could create a message printer, that first calls a message creator and then prints that:"
     ]
    },
    {
     "cell_type": "code",
     "collapsed": false,
     "input": [
      "def make_greeting(name):\n",
      "    return \"Hello, {0}\".format(name)\n",
      "\n",
      "def print_greeting(name):\n",
      "    print make_greeting(name)"
     ],
     "language": "python",
     "metadata": {},
     "outputs": []
    },
    {
     "cell_type": "code",
     "collapsed": false,
     "input": [],
     "language": "python",
     "metadata": {},
     "outputs": []
    },
    {
     "cell_type": "markdown",
     "metadata": {},
     "source": [
      "**Documenting Functions**\n",
      "\n",
      "Python has a built-in facility for documenting your functions that's very easy to use.  Just include a string between the `def` line and the body using triple quotes - `\"\"\"`:"
     ]
    },
    {
     "cell_type": "code",
     "collapsed": false,
     "input": [
      "def median(datalist):\n",
      "    \"\"\"find median of a list of numbers and return it\n",
      "    for lists with an odd number of elements, this is mid value of the list\n",
      "    for lists with an even number of elements, this is the mean of the two mid values\n",
      "    SIDE EFFECT: datalist is sorted in this function\"\"\"\n",
      "    datalist.sort()\n",
      "    if (len(datalist)%2):\n",
      "        return datalist[len(datalist)/2]\n",
      "    else:\n",
      "        return ((datalist[len(datalist)/2-1]+datalist[len(datalist)/2])/2.0)    "
     ],
     "language": "python",
     "metadata": {},
     "outputs": []
    },
    {
     "cell_type": "code",
     "collapsed": false,
     "input": [],
     "language": "python",
     "metadata": {},
     "outputs": []
    },
    {
     "cell_type": "code",
     "collapsed": false,
     "input": [],
     "language": "python",
     "metadata": {},
     "outputs": []
    }
   ],
   "metadata": {}
  }
 ]
}